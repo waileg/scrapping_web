{
 "cells": [
  {
   "cell_type": "code",
   "execution_count": 1,
   "id": "6fc96666",
   "metadata": {},
   "outputs": [],
   "source": [
    "import requests\n",
    "from bs4 import BeautifulSoup\n",
    "import pandas as pd\n",
    "\n",
    "# URL of the website to be scraped\n",
    "url = \"https://www.universidadeuropea.com\"\n",
    "\n",
    "# Send a request to the website and get the HTML response\n",
    "response = requests.get(url)\n",
    "\n",
    "# Parse the HTML content using BeautifulSoup\n",
    "soup = BeautifulSoup(response.content, \"html.parser\")\n",
    "\n",
    "# Find all the URLs on the website\n",
    "urls = []\n",
    "for link in soup.find_all(\"a\"):\n",
    "    urls.append(link.get(\"href\"))\n",
    "\n",
    "# Create a DataFrame to store the URLs\n",
    "df = pd.DataFrame({\"URL\": urls})\n",
    "\n",
    "# Export the DataFrame to an Excel file\n",
    "df.to_excel(\"urls.xlsx\", index=False)\n"
   ]
  },
  {
   "cell_type": "code",
   "execution_count": null,
   "id": "96fd5327",
   "metadata": {},
   "outputs": [],
   "source": []
  }
 ],
 "metadata": {
  "kernelspec": {
   "display_name": "Python 3 (ipykernel)",
   "language": "python",
   "name": "python3"
  },
  "language_info": {
   "codemirror_mode": {
    "name": "ipython",
    "version": 3
   },
   "file_extension": ".py",
   "mimetype": "text/x-python",
   "name": "python",
   "nbconvert_exporter": "python",
   "pygments_lexer": "ipython3",
   "version": "3.10.9"
  }
 },
 "nbformat": 4,
 "nbformat_minor": 5
}
